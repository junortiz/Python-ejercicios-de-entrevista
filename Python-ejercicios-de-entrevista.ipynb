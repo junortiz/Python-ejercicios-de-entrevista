{
 "cells": [
  {
   "cell_type": "markdown",
   "metadata": {},
   "source": [
    "# **Ejercicios de entrevistas**\n",
    "1. Definir una función max() que tome como argumento dos números y devuelva el mayor de ellos. (Es cierto que python tiene una función max() incorporada, pero hacerla nosotros mismos es un muy buen ejercicio."
   ]
  },
  {
   "cell_type": "code",
   "execution_count": 1,
   "metadata": {},
   "outputs": [
    {
     "name": "stdout",
     "output_type": "stream",
     "text": [
      "6\n"
     ]
    }
   ],
   "source": [
    "def jun_max(a: int, b:int):\n",
    "    \"\"\"Retornar maximo de dos numeros dados\n",
    "\n",
    "    Args:\n",
    "        a (int): Primer numero a comparar\n",
    "        b (int): Segundo numero a comparar\n",
    "\n",
    "    Returns:\n",
    "        int: Mayor de ambos\n",
    "    \"\"\"\n",
    "    if a > b:\n",
    "        return a\n",
    "    elif a < b:\n",
    "        return b\n",
    "    elif a==b:\n",
    "        raise Exception(\"No se admiten valores iguales\")\n",
    "    raise Exception(\"Also salio mal\")\n",
    "\n",
    "print(jun_max(3,6))"
   ]
  },
  {
   "cell_type": "markdown",
   "metadata": {},
   "source": [
    "2.Definir una función max_de_tres(), que tome tres números como argumentos y devuelva el mayor de ellos.\n",
    "\n"
   ]
  },
  {
   "cell_type": "code",
   "execution_count": 2,
   "metadata": {},
   "outputs": [
    {
     "name": "stdout",
     "output_type": "stream",
     "text": [
      "5\n"
     ]
    }
   ],
   "source": [
    "def max_de_tres(n1:int, n2:int, n3:int):\n",
    "    \"\"\"Retornar el mayor de tres numeros\n",
    "\n",
    "    Args:\n",
    "        n1 (int): Primer número\n",
    "        n2 (int): Segundo número\n",
    "        n3 (int): Tercer numero\n",
    "    Returns:\n",
    "        int: El maximo de tres\n",
    "    \"\"\"\n",
    "    if n1 > n2 and n1 >n3:\n",
    "        return n1\n",
    "    elif n2 > n3 and n2 >n1:\n",
    "        return n2\n",
    "    elif n3 > n1 and n3 >n2:\n",
    "        return n3\n",
    "    elif n1 == n2 or n2 == n3 or n1 ==n3:\n",
    "        raise Exception(\"No es posibles valores iguales\")\n",
    "    raise Exception(\"Hay un error\")\n",
    "\n",
    "print(max_de_tres(5,1,1))"
   ]
  },
  {
   "cell_type": "markdown",
   "metadata": {},
   "source": [
    "3.Escribir una función que tome un carácter y devuelva True si es una vocal, de lo contrario devuelve False."
   ]
  },
  {
   "cell_type": "code",
   "execution_count": 3,
   "metadata": {},
   "outputs": [
    {
     "name": "stdout",
     "output_type": "stream",
     "text": [
      "True\n"
     ]
    }
   ],
   "source": [
    "def es_vocal(X:str):\n",
    "    \"\"\"Determinar si un caracter es vocal\n",
    "\n",
    "    Args:\n",
    "        X (str): Caracter\n",
    "    Returns:\n",
    "        bool: True si es vocal\n",
    "    \"\"\"\n",
    "    vocal = {'a','e','i','o','u'}\n",
    "    if not isinstance(X, str) or len(X)  != 1:\n",
    "        return Exception(\"No se admite mas de un caracter\")\n",
    "    if X.lower() in vocal:\n",
    "        return True\n",
    "    else:\n",
    "        return False\n",
    "print(es_vocal('a'))"
   ]
  },
  {
   "cell_type": "markdown",
   "metadata": {},
   "source": [
    "4.Escribir una función sum() y una función multip() que sumen y multipliquen respectivamente todos los números de una lista. Por ejemplo: sum([1,2,3,4]) debería devolver 10 y multip([1,2,3,4]) debería devolver 24."
   ]
  },
  {
   "cell_type": "code",
   "execution_count": 4,
   "metadata": {},
   "outputs": [
    {
     "name": "stdout",
     "output_type": "stream",
     "text": [
      "10\n",
      "24\n"
     ]
    }
   ],
   "source": [
    "def sum_jun(lista):\n",
    "    total = 0\n",
    "    i = 0\n",
    "    while i < len(lista):\n",
    "        total += lista[i]\n",
    "        i+=1\n",
    "    return total\n",
    "\n",
    "print(sum_jun([1,2,3,4]))\n",
    "\n",
    "def multiplicar(lista):\n",
    "    total = 1\n",
    "    i = 0\n",
    "    while i < len(lista):\n",
    "        total *= lista[i]\n",
    "        i+=1\n",
    "    return total\n",
    "\n",
    "print(multiplicar([1,2,3,4]))\n"
   ]
  },
  {
   "cell_type": "markdown",
   "metadata": {},
   "source": [
    "5.Definir una función inversa() que calcule la inversión de una cadena. Por ejemplo la cadena \"estoy probando\" debería devolver la cadena \"odnaborp yotse\""
   ]
  },
  {
   "cell_type": "code",
   "execution_count": 5,
   "metadata": {},
   "outputs": [
    {
     "name": "stdout",
     "output_type": "stream",
     "text": [
      "odnaborp yotse\n"
     ]
    }
   ],
   "source": [
    "def inversa(cadena):\n",
    "    return cadena[::-1]\n",
    "\n",
    "def inversa2(cadena):\n",
    "    cadena_invertida = \"\"\n",
    "    i = len(cadena) -1 \n",
    "    while i >= 0:\n",
    "        cadena_invertida += cadena[i]\n",
    "        i -= 1\n",
    "    return cadena_invertida\n",
    "\n",
    "print(inversa2(\"estoy probando\"))"
   ]
  },
  {
   "cell_type": "markdown",
   "metadata": {},
   "source": [
    "6.Definir una función es_palindromo() que reconoce palíndromos (es decir, palabras que tienen el mismo aspecto escritas invertidas), ejemplo: es_palindromo (\"radar\") tendría que devolver True."
   ]
  },
  {
   "cell_type": "code",
   "execution_count": 6,
   "metadata": {},
   "outputs": [
    {
     "name": "stdout",
     "output_type": "stream",
     "text": [
      "True\n"
     ]
    }
   ],
   "source": [
    "def es_palindromo(cadena:str):\n",
    "    cadena_inversa = str()\n",
    "    i = len(cadena) -1\n",
    "    while i >= 0:\n",
    "        cadena_inversa += cadena[i]\n",
    "        i -= 1\n",
    "    if cadena == cadena_inversa:\n",
    "        return True\n",
    "    else:\n",
    "        return False\n",
    "\n",
    "print(es_palindromo(\"radar\"))\n"
   ]
  },
  {
   "cell_type": "markdown",
   "metadata": {},
   "source": [
    "7.Definir una función superposicion() que tome dos listas y devuelva True si tienen al menos 1 miembro en común o devuelva False de lo contrario. Escribir la función usando el bucle for anidado."
   ]
  },
  {
   "cell_type": "code",
   "execution_count": 7,
   "metadata": {},
   "outputs": [
    {
     "name": "stdout",
     "output_type": "stream",
     "text": [
      "True\n"
     ]
    }
   ],
   "source": [
    "def superposicion(lista1, lista2):\n",
    "    for elem in lista1:\n",
    "      for elem2 in lista2:\n",
    "        if elem == elem2:\n",
    "          return True\n",
    "    return False\n",
    "\n",
    "print(superposicion([7,7,7],[5,7,5]))"
   ]
  },
  {
   "cell_type": "markdown",
   "metadata": {},
   "source": [
    "8.Definir una función generar_n_caracteres() que tome un entero n y devuelva el caracter multiplicado por n. Por ejemplo: generar_n_caracteres(5, \"x\") debería devolver \"xxxxx\"."
   ]
  },
  {
   "cell_type": "code",
   "execution_count": 8,
   "metadata": {},
   "outputs": [
    {
     "name": "stdout",
     "output_type": "stream",
     "text": [
      "xxxxx\n"
     ]
    }
   ],
   "source": [
    "def generar_n_caracteres(n: int, caracter:str):\n",
    "  caracter_final = \"\"\n",
    "  for i in range(0,n):\n",
    "    caracter_final = caracter + caracter_final\n",
    "  return caracter_final\n",
    "  \n",
    "  \n",
    "print(generar_n_caracteres(5,\"x\"))"
   ]
  },
  {
   "cell_type": "markdown",
   "metadata": {},
   "source": [
    "9.Definir un histograma procedimiento() que tome una lista de números enteros e imprima un histograma en la pantalla. Ejemplo: procedimiento([4, 9, 7]) debería imprimir lo siguiente:\n",
    "```\n",
    "****\n",
    "*********\n",
    "*******\n",
    "```"
   ]
  },
  {
   "cell_type": "code",
   "execution_count": 9,
   "metadata": {},
   "outputs": [
    {
     "name": "stdout",
     "output_type": "stream",
     "text": [
      "****\n",
      "*********\n",
      "*******\n"
     ]
    }
   ],
   "source": [
    "def procedimiento(lista:int):\n",
    "    for elem in lista:\n",
    "      print(\"*\"*elem)\n",
    "\n",
    "procedimiento([4,9,7])"
   ]
  },
  {
   "cell_type": "markdown",
   "metadata": {},
   "source": [
    "10. Calcula el promedio de una lista de números"
   ]
  },
  {
   "cell_type": "code",
   "execution_count": 10,
   "metadata": {},
   "outputs": [
    {
     "data": {
      "text/plain": [
       "3.6666666666666665"
      ]
     },
     "execution_count": 10,
     "metadata": {},
     "output_type": "execute_result"
    }
   ],
   "source": [
    "numeros = [5,2,4]\n",
    "promedio = sum(numeros)/len(numeros)\n",
    "promedio"
   ]
  },
  {
   "cell_type": "markdown",
   "metadata": {},
   "source": [
    "11. Reemplazar un carácter en una cadena de texto"
   ]
  },
  {
   "cell_type": "code",
   "execution_count": 11,
   "metadata": {},
   "outputs": [
    {
     "data": {
      "text/plain": [
       "'pleye'"
      ]
     },
     "execution_count": 11,
     "metadata": {},
     "output_type": "execute_result"
    }
   ],
   "source": [
    "cadena = \"playa\"\n",
    "reemplazado = cadena.replace(\"a\",\"e\")\n",
    "reemplazado"
   ]
  },
  {
   "cell_type": "markdown",
   "metadata": {},
   "source": [
    "12. Calcula 2 elevado a la 4ta potencia sin usar el operador **"
   ]
  },
  {
   "cell_type": "code",
   "execution_count": 12,
   "metadata": {},
   "outputs": [
    {
     "data": {
      "text/plain": [
       "16"
      ]
     },
     "execution_count": 12,
     "metadata": {},
     "output_type": "execute_result"
    }
   ],
   "source": [
    "numero = 2\n",
    "elevado = pow(2,4)\n",
    "elevado"
   ]
  },
  {
   "cell_type": "markdown",
   "metadata": {},
   "source": [
    "13. Contar las ocurrencias de un carácter específico en una cadena"
   ]
  },
  {
   "cell_type": "code",
   "execution_count": 13,
   "metadata": {},
   "outputs": [
    {
     "data": {
      "text/plain": [
       "2"
      ]
     },
     "execution_count": 13,
     "metadata": {},
     "output_type": "execute_result"
    }
   ],
   "source": [
    "cadena = \"playersa\"\n",
    "contar = cadena.count(\"a\")\n",
    "contar"
   ]
  },
  {
   "cell_type": "markdown",
   "metadata": {},
   "source": [
    "14. Encuentra y muestra el último carácter de una cadena"
   ]
  },
  {
   "cell_type": "code",
   "execution_count": 14,
   "metadata": {},
   "outputs": [
    {
     "data": {
      "text/plain": [
       "'n'"
      ]
     },
     "execution_count": 14,
     "metadata": {},
     "output_type": "execute_result"
    }
   ],
   "source": [
    "cadena = \"python\"\n",
    "ultimo = cadena[-1]\n",
    "ultimo"
   ]
  },
  {
   "cell_type": "markdown",
   "metadata": {},
   "source": [
    "15. Divide una cadena en una lista de subcadenas"
   ]
  },
  {
   "cell_type": "code",
   "execution_count": 15,
   "metadata": {},
   "outputs": [
    {
     "data": {
      "text/plain": [
       "['play', 'station']"
      ]
     },
     "execution_count": 15,
     "metadata": {},
     "output_type": "execute_result"
    }
   ],
   "source": [
    "cadena = \"play station\"\n",
    "dic = cadena.split()\n",
    "dic"
   ]
  },
  {
   "cell_type": "markdown",
   "metadata": {},
   "source": [
    "16. Eliminar un elemento específico de una lista"
   ]
  },
  {
   "cell_type": "code",
   "execution_count": 16,
   "metadata": {},
   "outputs": [
    {
     "name": "stdout",
     "output_type": "stream",
     "text": [
      "[2, 3]\n"
     ]
    }
   ],
   "source": [
    "lista = [1,2,3,1]\n",
    "lista.remove(1)\n",
    "\n",
    "while 1 in lista:\n",
    "  lista.remove(1)\n",
    "\n",
    "print(lista)"
   ]
  },
  {
   "cell_type": "markdown",
   "metadata": {},
   "source": [
    "17. Genera una lista de números del 1 al 10"
   ]
  },
  {
   "cell_type": "code",
   "execution_count": 17,
   "metadata": {},
   "outputs": [
    {
     "data": {
      "text/plain": [
       "[1, 2, 3, 4, 5, 6, 7, 8, 9, 10]"
      ]
     },
     "execution_count": 17,
     "metadata": {},
     "output_type": "execute_result"
    }
   ],
   "source": [
    "numeros = list(range(1,11))\n",
    "numeros"
   ]
  },
  {
   "cell_type": "markdown",
   "metadata": {},
   "source": [
    "18. Realiza operaciones básicas con conjuntos de unión e intersección"
   ]
  },
  {
   "cell_type": "code",
   "execution_count": 18,
   "metadata": {},
   "outputs": [
    {
     "name": "stdout",
     "output_type": "stream",
     "text": [
      "{1, 2, 3, 4, 5}\n",
      "{3}\n"
     ]
    }
   ],
   "source": [
    "conjunto1 = {1,2,3}\n",
    "conjunto2 = {3,4,5}\n",
    "\n",
    "#Unión\n",
    "union = conjunto1 | conjunto2\n",
    "print(union)\n",
    "\n",
    "#Intersección\n",
    "inter = conjunto1 & conjunto2\n",
    "print(inter)"
   ]
  },
  {
   "cell_type": "markdown",
   "metadata": {},
   "source": [
    "19. Combina dos listas en pares usando la función zip"
   ]
  },
  {
   "cell_type": "code",
   "execution_count": 19,
   "metadata": {},
   "outputs": [
    {
     "data": {
      "text/plain": [
       "[(1, 'a'), (2, 'b')]"
      ]
     },
     "execution_count": 19,
     "metadata": {},
     "output_type": "execute_result"
    }
   ],
   "source": [
    "l1 = [1,2,3]\n",
    "l2 = ['a','b']\n",
    "\n",
    "combinado = list(zip(l1,l2))\n",
    "combinado"
   ]
  },
  {
   "cell_type": "markdown",
   "metadata": {},
   "source": [
    "20. Eliminar duplicados de una lista"
   ]
  },
  {
   "cell_type": "code",
   "execution_count": 20,
   "metadata": {},
   "outputs": [
    {
     "data": {
      "text/plain": [
       "[4, 3, 2, 1]"
      ]
     },
     "execution_count": 20,
     "metadata": {},
     "output_type": "execute_result"
    }
   ],
   "source": [
    "lista1 = [1,2,3,4,1,2,3]\n",
    "eliminado = list(set(lista1))\n",
    "eliminado.sort(reverse=True)\n",
    "eliminado"
   ]
  },
  {
   "cell_type": "markdown",
   "metadata": {},
   "source": [
    "21. Verificar si un número es par o impar"
   ]
  },
  {
   "cell_type": "code",
   "execution_count": 21,
   "metadata": {},
   "outputs": [
    {
     "name": "stdout",
     "output_type": "stream",
     "text": [
      "Impar\n"
     ]
    }
   ],
   "source": [
    "n = 7\n",
    "\n",
    "if n % 2 == 0:\n",
    "  print('Par')\n",
    "else:\n",
    "  print('Impar')"
   ]
  },
  {
   "cell_type": "markdown",
   "metadata": {},
   "source": [
    "22. Determinar si un año es bisiesto, teniendo en cuenta las siguientes reglas: 📅\n",
    "- Bisiesto: Es divisible por 4 y No divisible por 100\n",
    "- Bisiesto: Es divisible por 400"
   ]
  },
  {
   "cell_type": "code",
   "execution_count": 22,
   "metadata": {},
   "outputs": [
    {
     "name": "stdout",
     "output_type": "stream",
     "text": [
      "Bisiesto\n"
     ]
    }
   ],
   "source": [
    "anio = 2024\n",
    "\n",
    "if (anio % 4 == 0 and anio % 100 !=0) or (anio % 400 == 0):\n",
    "  print('Bisiesto')\n",
    "else:\n",
    "  print('No bisiesto')\n"
   ]
  },
  {
   "cell_type": "markdown",
   "metadata": {},
   "source": [
    "23. Verificar si un número está en el rango de 1 a 10"
   ]
  },
  {
   "cell_type": "code",
   "execution_count": 23,
   "metadata": {},
   "outputs": [
    {
     "name": "stdout",
     "output_type": "stream",
     "text": [
      "Esta en el rango\n"
     ]
    }
   ],
   "source": [
    "n = 5\n",
    "\n",
    "if 1<=n<=10:\n",
    "  print('Esta en el rango')\n",
    "else:\n",
    "  print('No está en rango')"
   ]
  },
  {
   "cell_type": "markdown",
   "metadata": {},
   "source": [
    "24. Verificar si un carácter es vocal o no"
   ]
  },
  {
   "cell_type": "code",
   "execution_count": 24,
   "metadata": {},
   "outputs": [
    {
     "name": "stdout",
     "output_type": "stream",
     "text": [
      "es vocal\n"
     ]
    }
   ],
   "source": [
    "caracter = str(\"a\")\n",
    "vocales = ['a','e','o','u','i']\n",
    "if caracter.lower() in vocales:\n",
    "  print('es vocal')\n",
    "else:\n",
    "  print('No es vocal')"
   ]
  },
  {
   "cell_type": "markdown",
   "metadata": {},
   "source": [
    "25. Calcular máximo de números"
   ]
  },
  {
   "cell_type": "code",
   "execution_count": 25,
   "metadata": {},
   "outputs": [
    {
     "data": {
      "text/plain": [
       "22"
      ]
     },
     "execution_count": 25,
     "metadata": {},
     "output_type": "execute_result"
    }
   ],
   "source": [
    "numeros = [1,22,3]\n",
    "maximoo = max(numeros)\n",
    "maximoo"
   ]
  },
  {
   "cell_type": "markdown",
   "metadata": {},
   "source": [
    "26. Verificar si un carácter está en una cadena"
   ]
  },
  {
   "cell_type": "code",
   "execution_count": 26,
   "metadata": {},
   "outputs": [
    {
     "name": "stdout",
     "output_type": "stream",
     "text": [
      "No esta\n"
     ]
    }
   ],
   "source": [
    "caracter = \"s\"\n",
    "cadena = \"play\"\n",
    "\n",
    "if caracter in cadena:\n",
    "  print('Esta')\n",
    "else:\n",
    "  print('No esta')"
   ]
  },
  {
   "cell_type": "markdown",
   "metadata": {},
   "source": [
    "27. Imprimir los números del 10 al 1 en orden descendente"
   ]
  },
  {
   "cell_type": "code",
   "execution_count": 27,
   "metadata": {},
   "outputs": [
    {
     "name": "stdout",
     "output_type": "stream",
     "text": [
      "10\n",
      "9\n",
      "8\n",
      "7\n",
      "6\n",
      "5\n",
      "4\n",
      "3\n",
      "2\n",
      "1\n",
      "0\n"
     ]
    }
   ],
   "source": [
    "total = 10\n",
    "while total >= 0:\n",
    "  print(total)\n",
    "  total -=1"
   ]
  },
  {
   "cell_type": "markdown",
   "metadata": {},
   "source": [
    "28. Para un N número, imprimir la suma de todos los números desde 1 hasta N"
   ]
  },
  {
   "cell_type": "code",
   "execution_count": 28,
   "metadata": {},
   "outputs": [
    {
     "data": {
      "text/plain": [
       "15"
      ]
     },
     "execution_count": 28,
     "metadata": {},
     "output_type": "execute_result"
    }
   ],
   "source": [
    "n  = 5\n",
    "suma = 0\n",
    "while n >= 0:\n",
    "  suma += n\n",
    "  n -= 1\n",
    "suma"
   ]
  },
  {
   "cell_type": "markdown",
   "metadata": {},
   "source": [
    "29. Para un N número, imprimir el factorial de ese número"
   ]
  },
  {
   "cell_type": "code",
   "execution_count": 29,
   "metadata": {},
   "outputs": [
    {
     "data": {
      "text/plain": [
       "120"
      ]
     },
     "execution_count": 29,
     "metadata": {},
     "output_type": "execute_result"
    }
   ],
   "source": [
    "n  = 5\n",
    "factorial = 1\n",
    "while n >= 1:\n",
    "  factorial *= n\n",
    "  n -= 1\n",
    "factorial"
   ]
  },
  {
   "cell_type": "markdown",
   "metadata": {},
   "source": [
    "30. Genera un número aleatorio entre 1 y 10. Luego, pide al usuario adivinar el número hasta que lo haga correcto"
   ]
  },
  {
   "cell_type": "code",
   "execution_count": 30,
   "metadata": {},
   "outputs": [
    {
     "name": "stdout",
     "output_type": "stream",
     "text": [
      "7\n",
      "Muy bien, llegaste al intento: 8\n"
     ]
    }
   ],
   "source": [
    "import random as rd\n",
    "\n",
    "random = rd.randint(1,10)\n",
    "print(random)\n",
    "intentos = 0\n",
    "while True:\n",
    "  usuario = int(input(\"Ingresa un número: \"))\n",
    "  intentos += 1\n",
    "  if usuario == random:\n",
    "    print(f\"Muy bien, llegaste al intento: {intentos}\")\n",
    "    break"
   ]
  },
  {
   "cell_type": "markdown",
   "metadata": {},
   "source": [
    "31. Imprime la tabla de multiplicar de un número ingresado por el usuario"
   ]
  },
  {
   "cell_type": "code",
   "execution_count": 31,
   "metadata": {},
   "outputs": [
    {
     "name": "stdout",
     "output_type": "stream",
     "text": [
      "3 * 0 = 0\n",
      "3 * 1 = 3\n",
      "3 * 2 = 6\n",
      "3 * 3 = 9\n",
      "3 * 4 = 12\n",
      "3 * 5 = 15\n",
      "3 * 6 = 18\n",
      "3 * 7 = 21\n",
      "3 * 8 = 24\n",
      "3 * 9 = 27\n",
      "3 * 10 = 30\n"
     ]
    }
   ],
   "source": [
    "numero = 3\n",
    "total = 0\n",
    "\n",
    "while total <= 10:\n",
    "  resultado= numero * total\n",
    "  print(f\"{numero} * {total} = {resultado}\")\n",
    "  total += 1"
   ]
  },
  {
   "cell_type": "markdown",
   "metadata": {},
   "source": [
    "32. Solicita al usuario ingresar un número y cuenta cuántos dígitos tiene"
   ]
  },
  {
   "cell_type": "code",
   "execution_count": 32,
   "metadata": {},
   "outputs": [
    {
     "name": "stdout",
     "output_type": "stream",
     "text": [
      "El numero tiene  1  digitos\n"
     ]
    }
   ],
   "source": [
    "numero = str(input(\"ingresa un número: \"))\n",
    "digitos = len(str(numero))\n",
    "print(\"El numero tiene \", digitos, \" digitos\")"
   ]
  },
  {
   "cell_type": "markdown",
   "metadata": {},
   "source": [
    "33. Hacer un menú de opciones que incluya la opción de salir del programa "
   ]
  },
  {
   "cell_type": "code",
   "execution_count": 33,
   "metadata": {},
   "outputs": [
    {
     "name": "stdout",
     "output_type": "stream",
     "text": [
      "1- Sumar\n",
      "2- Restas\n",
      "3- Salir\n",
      "Salir\n"
     ]
    }
   ],
   "source": [
    "while True:\n",
    "  print(\"1- Sumar\")\n",
    "  print(\"2- Restas\")\n",
    "  print(\"3- Salir\")\n",
    "\n",
    "  option = int(input(\"Escribe tu opción \"))\n",
    "  if option == 1:\n",
    "    print('Suma')\n",
    "  elif option ==2:\n",
    "    print('restas')\n",
    "  else:\n",
    "    print('Salir')\n",
    "    break"
   ]
  },
  {
   "cell_type": "markdown",
   "metadata": {},
   "source": [
    "34. Simular un lanzamiento de una moneda"
   ]
  },
  {
   "cell_type": "code",
   "execution_count": 34,
   "metadata": {},
   "outputs": [
    {
     "name": "stdout",
     "output_type": "stream",
     "text": [
      "Cara\n",
      "Cruz\n",
      "Gracias\n"
     ]
    }
   ],
   "source": [
    "import random\n",
    "\n",
    "while True:\n",
    "  moneda = random.randint(1,2)\n",
    "  if moneda == 1:\n",
    "    print('Cara')\n",
    "  else:\n",
    "    print('Cruz')\n",
    "  jugar = input(\"Tirar de nuevo (S/N): \")\n",
    "  if jugar.lower() == 'n':\n",
    "    break\n",
    "print('Gracias')"
   ]
  },
  {
   "cell_type": "markdown",
   "metadata": {},
   "source": [
    "35. Mostrar los números del 1 al 10, pero reemplazando los múltiplos de 3 por \"Fizz\" y los múltiplos de 5 por \"Buzz\""
   ]
  },
  {
   "cell_type": "code",
   "execution_count": 35,
   "metadata": {},
   "outputs": [
    {
     "name": "stdout",
     "output_type": "stream",
     "text": [
      "Buzz\n",
      "Fizz\n",
      "8\n",
      "7\n",
      "Fizz\n",
      "Buzz\n",
      "4\n",
      "Fizz\n",
      "2\n",
      "1\n"
     ]
    }
   ],
   "source": [
    "total = 10\n",
    "\n",
    "while total >= 1:\n",
    "  if total % 3 == 0:\n",
    "    print(\"Fizz\")\n",
    "  elif total % 5 == 0:\n",
    "    print(\"Buzz\")\n",
    "  else:\n",
    "    print(total)\n",
    "  total -= 1"
   ]
  },
  {
   "cell_type": "markdown",
   "metadata": {},
   "source": [
    "36. Imprimir los numeros del 1 al5 con for"
   ]
  },
  {
   "cell_type": "code",
   "execution_count": 1,
   "metadata": {},
   "outputs": [
    {
     "name": "stdout",
     "output_type": "stream",
     "text": [
      "1\n",
      "2\n",
      "3\n",
      "4\n",
      "5\n"
     ]
    }
   ],
   "source": [
    "for i in list(range(1,6)):\n",
    "    print(i)"
   ]
  },
  {
   "cell_type": "markdown",
   "metadata": {},
   "source": [
    "37. Sumar los números del 1 al 10 con for"
   ]
  },
  {
   "cell_type": "code",
   "execution_count": 3,
   "metadata": {},
   "outputs": [
    {
     "name": "stdout",
     "output_type": "stream",
     "text": [
      "1\n",
      "3\n",
      "6\n",
      "10\n",
      "15\n",
      "21\n",
      "28\n",
      "36\n",
      "45\n",
      "55\n"
     ]
    }
   ],
   "source": [
    "suma = 0\n",
    "\n",
    "for i in list(range(1,11)):\n",
    "    suma = suma + i\n",
    "    print(suma)"
   ]
  },
  {
   "cell_type": "markdown",
   "metadata": {},
   "source": [
    "38. Imprimir los elementos de una lista dada"
   ]
  },
  {
   "cell_type": "code",
   "execution_count": 5,
   "metadata": {},
   "outputs": [
    {
     "name": "stdout",
     "output_type": "stream",
     "text": [
      "1\n",
      "2\n",
      "3\n",
      "4\n"
     ]
    }
   ],
   "source": [
    "def imprimir(lista):\n",
    "    for i in lista:\n",
    "        print(i)\n",
    "\n",
    "imprimir([1,2,3,4])"
   ]
  },
  {
   "cell_type": "markdown",
   "metadata": {},
   "source": [
    "39. Imprimir los caracteres de una cadena usando el ciclo for"
   ]
  },
  {
   "cell_type": "code",
   "execution_count": 6,
   "metadata": {},
   "outputs": [
    {
     "name": "stdout",
     "output_type": "stream",
     "text": [
      "p\n",
      "l\n",
      "a\n",
      "y\n"
     ]
    }
   ],
   "source": [
    "cadena = \"play\"\n",
    "\n",
    "for i in cadena:\n",
    "    print(i)"
   ]
  },
  {
   "cell_type": "markdown",
   "metadata": {},
   "source": [
    "40.Imprimir los números pares del 2 al 10 con el ciclo for"
   ]
  },
  {
   "cell_type": "code",
   "execution_count": 8,
   "metadata": {},
   "outputs": [
    {
     "name": "stdout",
     "output_type": "stream",
     "text": [
      "2\n",
      "4\n",
      "6\n",
      "8\n",
      "10\n"
     ]
    }
   ],
   "source": [
    "for i in list(range(2,11,2)):\n",
    "    print(i)"
   ]
  },
  {
   "cell_type": "markdown",
   "metadata": {},
   "source": [
    "41.Imprimir el cuadrado de los numeros de una lista"
   ]
  },
  {
   "cell_type": "code",
   "execution_count": 12,
   "metadata": {},
   "outputs": [
    {
     "name": "stdout",
     "output_type": "stream",
     "text": [
      "1\n",
      "1\n",
      "2\n",
      "4\n",
      "3\n",
      "9\n",
      "4\n",
      "16\n"
     ]
    }
   ],
   "source": [
    "lista = [1,2,3,4]\n",
    "\n",
    "def cuadrado(lista):\n",
    "    for i in lista:\n",
    "        print(i)\n",
    "        print(i**2)\n",
    "\n",
    "cuadrado(lista)"
   ]
  },
  {
   "cell_type": "markdown",
   "metadata": {},
   "source": [
    "42.Imprimir los números del 5 al 1 en orden descendente"
   ]
  },
  {
   "cell_type": "code",
   "execution_count": 14,
   "metadata": {},
   "outputs": [
    {
     "name": "stdout",
     "output_type": "stream",
     "text": [
      "[5, 4, 3, 2, 1]\n"
     ]
    }
   ],
   "source": [
    "lista = list(range(1,6))\n",
    "\n",
    "print(lista[::-1])"
   ]
  },
  {
   "cell_type": "markdown",
   "metadata": {},
   "source": [
    "43.Crea una función para calcular el área de un círculo"
   ]
  },
  {
   "cell_type": "code",
   "execution_count": 19,
   "metadata": {},
   "outputs": [
    {
     "name": "stdout",
     "output_type": "stream",
     "text": [
      "78.53981633974483\n"
     ]
    }
   ],
   "source": [
    "import math\n",
    "\n",
    "def area(radio):\n",
    "    area = radio **2 * math.pi\n",
    "    print(area)\n",
    "    \n",
    "    \n",
    "area(5)"
   ]
  }
 ],
 "metadata": {
  "kernelspec": {
   "display_name": "base",
   "language": "python",
   "name": "python3"
  },
  "language_info": {
   "codemirror_mode": {
    "name": "ipython",
    "version": 3
   },
   "file_extension": ".py",
   "mimetype": "text/x-python",
   "name": "python",
   "nbconvert_exporter": "python",
   "pygments_lexer": "ipython3",
   "version": "3.9.12"
  }
 },
 "nbformat": 4,
 "nbformat_minor": 2
}
