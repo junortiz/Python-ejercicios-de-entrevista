{
 "cells": [
  {
   "cell_type": "markdown",
   "metadata": {},
   "source": [
    "# **Ejercicios de entrevistas**\n",
    "1. Definir una función max() que tome como argumento dos números y devuelva el mayor de ellos. (Es cierto que python tiene una función max() incorporada, pero hacerla nosotros mismos es un muy buen ejercicio."
   ]
  },
  {
   "cell_type": "code",
   "execution_count": 21,
   "metadata": {},
   "outputs": [
    {
     "name": "stdout",
     "output_type": "stream",
     "text": [
      "6\n"
     ]
    }
   ],
   "source": [
    "def jun_max(a: int, b:int):\n",
    "    \"\"\"Retornar maximo de dos numeros dados\n",
    "\n",
    "    Args:\n",
    "        a (int): Primer numero a comparar\n",
    "        b (int): Segundo numero a comparar\n",
    "\n",
    "    Returns:\n",
    "        int: Mayor de ambos\n",
    "    \"\"\"\n",
    "    if a > b:\n",
    "        return a\n",
    "    elif a < b:\n",
    "        return b\n",
    "    elif a==b:\n",
    "        raise Exception(\"No se admiten valores iguales\")\n",
    "    raise Exception(\"Also salio mal\")\n",
    "\n",
    "print(jun_max(3,6))"
   ]
  },
  {
   "cell_type": "markdown",
   "metadata": {},
   "source": [
    "2.Definir una función max_de_tres(), que tome tres números como argumentos y devuelva el mayor de ellos.\n",
    "\n"
   ]
  },
  {
   "cell_type": "code",
   "execution_count": 22,
   "metadata": {},
   "outputs": [
    {
     "name": "stdout",
     "output_type": "stream",
     "text": [
      "5\n"
     ]
    }
   ],
   "source": [
    "def max_de_tres(n1:int, n2:int, n3:int):\n",
    "    \"\"\"Retornar el mayor de tres numeros\n",
    "\n",
    "    Args:\n",
    "        n1 (int): Primer número\n",
    "        n2 (int): Segundo número\n",
    "        n3 (int): Tercer numero\n",
    "    Returns:\n",
    "        int: El maximo de tres\n",
    "    \"\"\"\n",
    "    if n1 > n2 and n1 >n3:\n",
    "        return n1\n",
    "    elif n2 > n3 and n2 >n1:\n",
    "        return n2\n",
    "    elif n3 > n1 and n3 >n2:\n",
    "        return n3\n",
    "    elif n1 == n2 or n2 == n3 or n1 ==n3:\n",
    "        raise Exception(\"No es posibles valores iguales\")\n",
    "    raise Exception(\"Hay un error\")\n",
    "\n",
    "print(max_de_tres(5,1,1))"
   ]
  },
  {
   "cell_type": "markdown",
   "metadata": {},
   "source": [
    "3.Escribir una función que tome un carácter y devuelva True si es una vocal, de lo contrario devuelve False."
   ]
  },
  {
   "cell_type": "code",
   "execution_count": 23,
   "metadata": {},
   "outputs": [
    {
     "name": "stdout",
     "output_type": "stream",
     "text": [
      "True\n"
     ]
    }
   ],
   "source": [
    "def es_vocal(X:str):\n",
    "    \"\"\"Determinar si un caracter es vocal\n",
    "\n",
    "    Args:\n",
    "        X (str): Caracter\n",
    "    Returns:\n",
    "        bool: True si es vocal\n",
    "    \"\"\"\n",
    "    vocal = {'a','e','i','o','u'}\n",
    "    if not isinstance(X, str) or len(X)  != 1:\n",
    "        return Exception(\"No se admite mas de un caracter\")\n",
    "    if X.lower() in vocal:\n",
    "        return True\n",
    "    else:\n",
    "        return False\n",
    "print(es_vocal('a'))"
   ]
  },
  {
   "cell_type": "markdown",
   "metadata": {},
   "source": [
    "4.Escribir una función sum() y una función multip() que sumen y multipliquen respectivamente todos los números de una lista. Por ejemplo: sum([1,2,3,4]) debería devolver 10 y multip([1,2,3,4]) debería devolver 24."
   ]
  },
  {
   "cell_type": "code",
   "execution_count": 24,
   "metadata": {},
   "outputs": [
    {
     "name": "stdout",
     "output_type": "stream",
     "text": [
      "10\n",
      "24\n"
     ]
    }
   ],
   "source": [
    "def sum_jun(lista):\n",
    "    total = 0\n",
    "    i = 0\n",
    "    while i < len(lista):\n",
    "        total += lista[i]\n",
    "        i+=1\n",
    "    return total\n",
    "\n",
    "print(sum_jun([1,2,3,4]))\n",
    "\n",
    "def multiplicar(lista):\n",
    "    total = 1\n",
    "    i = 0\n",
    "    while i < len(lista):\n",
    "        total *= lista[i]\n",
    "        i+=1\n",
    "    return total\n",
    "\n",
    "print(multiplicar([1,2,3,4]))\n"
   ]
  },
  {
   "cell_type": "markdown",
   "metadata": {},
   "source": [
    "5.Definir una función inversa() que calcule la inversión de una cadena. Por ejemplo la cadena \"estoy probando\" debería devolver la cadena \"odnaborp yotse\""
   ]
  },
  {
   "cell_type": "code",
   "execution_count": 25,
   "metadata": {},
   "outputs": [
    {
     "name": "stdout",
     "output_type": "stream",
     "text": [
      "odnaborp yotse\n"
     ]
    }
   ],
   "source": [
    "def inversa(cadena):\n",
    "    return cadena[::-1]\n",
    "\n",
    "def inversa2(cadena):\n",
    "    cadena_invertida = \"\"\n",
    "    i = len(cadena) -1 \n",
    "    while i >= 0:\n",
    "        cadena_invertida += cadena[i]\n",
    "        i -= 1\n",
    "    return cadena_invertida\n",
    "\n",
    "print(inversa2(\"estoy probando\"))"
   ]
  },
  {
   "cell_type": "markdown",
   "metadata": {},
   "source": [
    "6.Definir una función es_palindromo() que reconoce palíndromos (es decir, palabras que tienen el mismo aspecto escritas invertidas), ejemplo: es_palindromo (\"radar\") tendría que devolver True."
   ]
  },
  {
   "cell_type": "code",
   "execution_count": 26,
   "metadata": {},
   "outputs": [
    {
     "name": "stdout",
     "output_type": "stream",
     "text": [
      "True\n"
     ]
    }
   ],
   "source": [
    "def es_palindromo(cadena:str):\n",
    "    cadena_inversa = str()\n",
    "    i = len(cadena) -1\n",
    "    while i >= 0:\n",
    "        cadena_inversa += cadena[i]\n",
    "        i -= 1\n",
    "    if cadena == cadena_inversa:\n",
    "        return True\n",
    "    else:\n",
    "        return False\n",
    "\n",
    "print(es_palindromo(\"radar\"))\n"
   ]
  },
  {
   "cell_type": "markdown",
   "metadata": {},
   "source": [
    "7.Definir una función superposicion() que tome dos listas y devuelva True si tienen al menos 1 miembro en común o devuelva False de lo contrario. Escribir la función usando el bucle for anidado."
   ]
  },
  {
   "cell_type": "code",
   "execution_count": 27,
   "metadata": {},
   "outputs": [
    {
     "name": "stdout",
     "output_type": "stream",
     "text": [
      "True\n"
     ]
    }
   ],
   "source": [
    "def superposicion(lista1, lista2):\n",
    "    for elem in lista1:\n",
    "      for elem2 in lista2:\n",
    "        if elem == elem2:\n",
    "          return True\n",
    "    return False\n",
    "\n",
    "print(superposicion([7,7,7],[5,7,5]))"
   ]
  },
  {
   "cell_type": "markdown",
   "metadata": {},
   "source": [
    "8.Definir una función generar_n_caracteres() que tome un entero n y devuelva el caracter multiplicado por n. Por ejemplo: generar_n_caracteres(5, \"x\") debería devolver \"xxxxx\"."
   ]
  },
  {
   "cell_type": "code",
   "execution_count": 28,
   "metadata": {},
   "outputs": [
    {
     "name": "stdout",
     "output_type": "stream",
     "text": [
      "xxxxx\n"
     ]
    }
   ],
   "source": [
    "def generar_n_caracteres(n: int, caracter:str):\n",
    "  caracter_final = \"\"\n",
    "  for i in range(0,n):\n",
    "    caracter_final = caracter + caracter_final\n",
    "  return caracter_final\n",
    "  \n",
    "  \n",
    "print(generar_n_caracteres(5,\"x\"))"
   ]
  },
  {
   "cell_type": "markdown",
   "metadata": {},
   "source": [
    "9.Definir un histograma procedimiento() que tome una lista de números enteros e imprima un histograma en la pantalla. Ejemplo: procedimiento([4, 9, 7]) debería imprimir lo siguiente:\n",
    "```\n",
    "****\n",
    "*********\n",
    "*******\n",
    "```"
   ]
  },
  {
   "cell_type": "code",
   "execution_count": 29,
   "metadata": {},
   "outputs": [
    {
     "name": "stdout",
     "output_type": "stream",
     "text": [
      "****\n",
      "*********\n",
      "*******\n"
     ]
    }
   ],
   "source": [
    "def procedimiento(lista:int):\n",
    "    for elem in lista:\n",
    "      print(\"*\"*elem)\n",
    "\n",
    "procedimiento([4,9,7])"
   ]
  }
 ],
 "metadata": {
  "kernelspec": {
   "display_name": "base",
   "language": "python",
   "name": "python3"
  },
  "language_info": {
   "codemirror_mode": {
    "name": "ipython",
    "version": 3
   },
   "file_extension": ".py",
   "mimetype": "text/x-python",
   "name": "python",
   "nbconvert_exporter": "python",
   "pygments_lexer": "ipython3",
   "version": "3.9.12"
  }
 },
 "nbformat": 4,
 "nbformat_minor": 2
}
