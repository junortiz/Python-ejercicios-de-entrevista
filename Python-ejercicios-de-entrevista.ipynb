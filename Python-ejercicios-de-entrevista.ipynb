{
 "cells": [
  {
   "cell_type": "markdown",
   "metadata": {},
   "source": [
    "# **Ejercicios de entrevistas**\n",
    "1. Definir una función max() que tome como argumento dos números y devuelva el mayor de ellos. (Es cierto que python tiene una función max() incorporada, pero hacerla nosotros mismos es un muy buen ejercicio."
   ]
  },
  {
   "cell_type": "code",
   "execution_count": 5,
   "metadata": {},
   "outputs": [
    {
     "name": "stdout",
     "output_type": "stream",
     "text": [
      "66\n"
     ]
    }
   ],
   "source": [
    "def jun_max(a: int, b:int):\n",
    "    \"\"\"Retornar maximo de dos numeros dados\n",
    "\n",
    "    Args:\n",
    "        a (int): Primer numero a comparar\n",
    "        b (int): Segundo numero a comparar\n",
    "\n",
    "    Returns:\n",
    "        int: Mayor de ambos\n",
    "    \"\"\"\n",
    "    if a > b:\n",
    "        return a\n",
    "    elif a < b:\n",
    "        return b\n",
    "    elif a==b:\n",
    "        raise Exception(\"No se admiten valores iguales\")\n",
    "    raise Exception(\"Also salio mal\")\n",
    "\n",
    "print(jun_max(3,66))"
   ]
  },
  {
   "cell_type": "markdown",
   "metadata": {},
   "source": [
    "2.Definir una función max_de_tres(), que tome tres números como argumentos y devuelva el mayor de ellos.\n",
    "\n"
   ]
  },
  {
   "cell_type": "code",
   "execution_count": 15,
   "metadata": {},
   "outputs": [
    {
     "name": "stdout",
     "output_type": "stream",
     "text": [
      "5\n"
     ]
    }
   ],
   "source": [
    "def max_de_tres(n1:int, n2:int, n3:int):\n",
    "    \"\"\"Retornar el mayor de tres numeros\n",
    "\n",
    "    Args:\n",
    "        n1 (int): Primer número\n",
    "        n2 (int): Segundo número\n",
    "        n3 (int): Tercer numero\n",
    "    Returns:\n",
    "        int: El maximo de tres\n",
    "    \"\"\"\n",
    "    if n1 > n2 and n1 >n3:\n",
    "        return n1\n",
    "    elif n2 > n3 and n2 >n1:\n",
    "        return n2\n",
    "    elif n3 > n1 and n3 >n2:\n",
    "        return n3\n",
    "    elif n1 == n2 or n2 == n3 or n1 ==n3:\n",
    "        raise Exception(\"No es posibles valores iguales\")\n",
    "    raise Exception(\"Hay un error\")\n",
    "\n",
    "print(max_de_tres(5,1,1))"
   ]
  },
  {
   "cell_type": "markdown",
   "metadata": {},
   "source": [
    "3.Escribir una función que tome un carácter y devuelva True si es una vocal, de lo contrario devuelve False."
   ]
  },
  {
   "cell_type": "code",
   "execution_count": 34,
   "metadata": {},
   "outputs": [
    {
     "name": "stdout",
     "output_type": "stream",
     "text": [
      "True\n"
     ]
    }
   ],
   "source": [
    "def es_vocal(X:str):\n",
    "    \"\"\"Determinar si un caracter es vocal\n",
    "\n",
    "    Args:\n",
    "        X (str): Caracter\n",
    "    Returns:\n",
    "        bool: True si es vocal\n",
    "    \"\"\"\n",
    "    vocal = {'a','e','i','o','u'}\n",
    "    if not isinstance(X, str) or len(X)  != 1:\n",
    "        return Exception(\"No se admite mas de un caracter\")\n",
    "    if X.lower() in vocal:\n",
    "        return True\n",
    "    else:\n",
    "        return False\n",
    "print(es_vocal('a'))"
   ]
  },
  {
   "cell_type": "markdown",
   "metadata": {},
   "source": [
    "4.Escribir una función sum() y una función multip() que sumen y multipliquen respectivamente todos los números de una lista. Por ejemplo: sum([1,2,3,4]) debería devolver 10 y multip([1,2,3,4]) debería devolver 24."
   ]
  },
  {
   "cell_type": "code",
   "execution_count": 69,
   "metadata": {},
   "outputs": [
    {
     "name": "stdout",
     "output_type": "stream",
     "text": [
      "10\n",
      "24\n"
     ]
    }
   ],
   "source": [
    "def sum_jun(lista):\n",
    "    total = 0\n",
    "    i = 0\n",
    "    while i < len(lista):\n",
    "        total += lista[i]\n",
    "        i+=1\n",
    "    return total\n",
    "\n",
    "print(sum_jun([1,2,3,4]))\n",
    "\n",
    "def multiplicar(lista):\n",
    "    total = 1\n",
    "    i = 0\n",
    "    while i < len(lista):\n",
    "        total *= lista[i]\n",
    "        i+=1\n",
    "    return total\n",
    "\n",
    "print(multiplicar([1,2,3,4]))\n"
   ]
  },
  {
   "cell_type": "markdown",
   "metadata": {},
   "source": [
    "5.Definir una función inversa() que calcule la inversión de una cadena. Por ejemplo la cadena \"estoy probando\" debería devolver la cadena \"odnaborp yotse\""
   ]
  },
  {
   "cell_type": "code",
   "execution_count": 125,
   "metadata": {},
   "outputs": [
    {
     "name": "stdout",
     "output_type": "stream",
     "text": [
      "odnaborp yotse\n"
     ]
    }
   ],
   "source": [
    "def inversa(cadena):\n",
    "    return cadena[::-1]\n",
    "\n",
    "def inversa2(cadena):\n",
    "    cadena_invertida = \"\"\n",
    "    i = len(cadena) -1 \n",
    "    while i >= 0:\n",
    "        cadena_invertida += cadena[i]\n",
    "        i -= 1\n",
    "    return cadena_invertida\n",
    "\n",
    "print(inversa2(\"estoy probando\"))"
   ]
  }
 ],
 "metadata": {
  "kernelspec": {
   "display_name": "base",
   "language": "python",
   "name": "python3"
  },
  "language_info": {
   "codemirror_mode": {
    "name": "ipython",
    "version": 3
   },
   "file_extension": ".py",
   "mimetype": "text/x-python",
   "name": "python",
   "nbconvert_exporter": "python",
   "pygments_lexer": "ipython3",
   "version": "3.9.12"
  }
 },
 "nbformat": 4,
 "nbformat_minor": 2
}
